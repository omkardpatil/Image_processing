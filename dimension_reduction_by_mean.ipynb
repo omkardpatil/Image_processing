{
  "nbformat": 4,
  "nbformat_minor": 0,
  "metadata": {
    "colab": {
      "provenance": [],
      "collapsed_sections": [],
      "mount_file_id": "1YY10uYft21kQ2IqSWyjDmTlasCAPI3j3",
      "authorship_tag": "ABX9TyNh1woFSpn3lRIKNkhyYKM4",
      "include_colab_link": true
    },
    "kernelspec": {
      "name": "python3",
      "display_name": "Python 3"
    },
    "language_info": {
      "name": "python"
    }
  },
  "cells": [
    {
      "cell_type": "markdown",
      "metadata": {
        "id": "view-in-github",
        "colab_type": "text"
      },
      "source": [
        "<a href=\"https://colab.research.google.com/github/omkardpatil/Image_processing/blob/main/dimension_reduction_by_mean.ipynb\" target=\"_parent\"><img src=\"https://colab.research.google.com/assets/colab-badge.svg\" alt=\"Open In Colab\"/></a>"
      ]
    },
    {
      "cell_type": "code",
      "execution_count": 103,
      "metadata": {
        "id": "hm6Lgu70gWtr"
      },
      "outputs": [],
      "source": [
        "import cv2\n",
        "import numpy as np\n",
        "import matplotlib.pyplot as plt\n",
        "from google.colab.patches import cv2_imshow\n",
        "from IPython.display import clear_output\n",
        "import glob"
      ]
    },
    {
      "cell_type": "code",
      "source": [
        "from google.colab import drive\n",
        "drive.mount('/content/drive')"
      ],
      "metadata": {
        "colab": {
          "base_uri": "https://localhost:8080/"
        },
        "id": "QkpnevNaiQni",
        "outputId": "fa8179ca-fd3e-4612-a95b-90f6b2bc7761"
      },
      "execution_count": 104,
      "outputs": [
        {
          "output_type": "stream",
          "name": "stdout",
          "text": [
            "Drive already mounted at /content/drive; to attempt to forcibly remount, call drive.mount(\"/content/drive\", force_remount=True).\n"
          ]
        }
      ]
    },
    {
      "cell_type": "code",
      "source": [
        "path = '/content/drive/MyDrive/Colab Notebooks/ee610_assignment2_q5_data/dataset/small_imgs'\n",
        "paths = glob.glob(path + \"/*.jpg\") # Grabbing all the image file names\n",
        "limit =246  \n",
        "print(len(paths))\n",
        "# V imp d = dimension reduction factor\n",
        "d=4 \n",
        "l=0\n",
        "# for o in paths:\n",
        "#   print(o)"
      ],
      "metadata": {
        "colab": {
          "base_uri": "https://localhost:8080/"
        },
        "id": "dn_oSVdogvHU",
        "outputId": "fef94db0-413b-4bad-99f7-1310c04384ab"
      },
      "execution_count": 105,
      "outputs": [
        {
          "output_type": "stream",
          "name": "stdout",
          "text": [
            "246\n"
          ]
        }
      ]
    },
    {
      "cell_type": "code",
      "source": [
        "for o in paths:\n",
        "  l+=1\n",
        "  print(l)\n",
        "  if l>limit:\n",
        "    break;\n",
        "  print(o)\n",
        "  img=cv2.imread(o)\n",
        "  cols, rows, _ = img.shape\n",
        "  img_new = np.zeros([int(cols/d),int(rows/d),3], dtype=int)\n",
        "  for i in range(1,int(cols/d)):\n",
        "    for j in range(1,int(rows/d)):\n",
        "      img_new[i][j] = np.mean(img[i*d:i*d+1,j*d:j*d+1])\n",
        "  cv2.imwrite('/content/drive/MyDrive/Colab Notebooks/ee610_assignment2_q5_data/dataset/smaller_imgs/img'+str(l)+'.jpg',img)\n",
        "  clear_output()"
      ],
      "metadata": {
        "id": "Wtp1B16Og69W"
      },
      "execution_count": 106,
      "outputs": []
    }
  ]
}