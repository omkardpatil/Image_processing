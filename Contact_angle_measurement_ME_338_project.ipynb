{
  "nbformat": 4,
  "nbformat_minor": 0,
  "metadata": {
    "colab": {
      "provenance": [],
      "collapsed_sections": [],
      "include_colab_link": true
    },
    "kernelspec": {
      "name": "python3",
      "display_name": "Python 3"
    },
    "language_info": {
      "name": "python"
    },
    "gpuClass": "standard"
  },
  "cells": [
    {
      "cell_type": "markdown",
      "metadata": {
        "id": "view-in-github",
        "colab_type": "text"
      },
      "source": [
        "<a href=\"https://colab.research.google.com/github/omkardpatil/Image_processing/blob/main/Contact_angle_measurement_ME_338_project.ipynb\" target=\"_parent\"><img src=\"https://colab.research.google.com/assets/colab-badge.svg\" alt=\"Open In Colab\"/></a>"
      ]
    },
    {
      "cell_type": "markdown",
      "source": [
        "# Big Picture\n",
        "*   Make working code with user interface\n",
        "*   Make it work on phone using kivy/else"
      ],
      "metadata": {
        "id": "o867RMh2_Y0R"
      }
    },
    {
      "cell_type": "markdown",
      "source": [
        "Image processing points:-\n",
        "1. Get img [Done]\n",
        "2. Ask to user to crop [Done yet to be tested]\n",
        "3. Thresholding (option for user to changer para using sliders),(search 'user para' in this colab) [future dev]\n",
        "4. Measure angle [Done]\n",
        "5. Display angle [Done]\n",
        "6. Check if threre are sufficient black pixels after first black pixel in given row [Not req for now, thresholding is taking care of this]"
      ],
      "metadata": {
        "id": "dy70whLS-9RA"
      }
    },
    {
      "cell_type": "code",
      "execution_count": 131,
      "metadata": {
        "id": "uKc9PZu3-4DQ"
      },
      "outputs": [],
      "source": [
        "import cv2\n",
        "import numpy as np\n",
        "import matplotlib.pyplot as plt\n",
        "from google.colab.patches import cv2_imshow\n",
        "from math import *"
      ]
    },
    {
      "cell_type": "code",
      "source": [
        "def read_img(path):\n",
        "  # reading the image\n",
        "  img_colored = cv2.imread(path)\n",
        "  img_gray = cv2.cvtColor(img_colored, cv2.COLOR_BGR2GRAY)\n",
        "  img = img_gray\n",
        "  # displaying the image\n",
        "  cv2_imshow(img)\n",
        "  h,l = img.shape\n",
        "  print('Img shape :', h,l)\n",
        "  return img, img_colored"
      ],
      "metadata": {
        "id": "zbLuPmZ3BRg5"
      },
      "execution_count": 132,
      "outputs": []
    },
    {
      "cell_type": "code",
      "source": [
        "def click_event(event, x, y, flags, params):\n",
        "    # checking for left mouse clicks\n",
        "    if event == cv2.EVENT_LBUTTONDOWN:\n",
        "        return x,y"
      ],
      "metadata": {
        "id": "gjwC2GbahB3H"
      },
      "execution_count": 133,
      "outputs": []
    },
    {
      "cell_type": "code",
      "source": [
        "# function to crop image to focus on drop only\n",
        "def crop_img(img): \n",
        "  #call this function when u want to crop\n",
        "  x1 , y1 = cv2.setMouseCallback('image', click_event)\n",
        "  x2 , y2 = cv2.setMouseCallback('image', click_event)\n",
        "  cropped_img = img[x1:x2, y1:y2] \n",
        "  return cropped_img"
      ],
      "metadata": {
        "id": "DEFLVJvqAHQy"
      },
      "execution_count": 134,
      "outputs": []
    },
    {
      "cell_type": "code",
      "source": [
        "def thresholding(img):\n",
        "  thr = 125 # user para\n",
        "  h,l = img.shape\n",
        "  for i in range(h):\n",
        "    for j in range(l):\n",
        "      if(img[i,j]<thr):\n",
        "        img[i,j]=0\n",
        "      else:\n",
        "        img[i,j]=255\n",
        "  # displaying the image\n",
        "  cv2_imshow(img)\n",
        "  return img"
      ],
      "metadata": {
        "id": "WQMdbWCo0a-B"
      },
      "execution_count": 135,
      "outputs": []
    },
    {
      "cell_type": "code",
      "source": [
        "def find_c_points(img):\n",
        "  error_margin = 0.05 #user para , non white pixels\n",
        "  leng = 10 #user para , to check continuity of black pixels\n",
        "  thr = 255-255*error_margin\n",
        "  c_points_l = [] # x,y x:all , y: first non-white pixel\n",
        "  prev_j=-1\n",
        "  write=True\n",
        "  for i in range(h):\n",
        "    for j in range(l):\n",
        "      if (img[i,j]<thr):\n",
        "        # if(len(c_points)!=0 and (j==prev_j)): # Do not include vertical black columns\n",
        "        #  write=False\n",
        "        # for o in range(leng):\n",
        "        #   if img[i,j+o]<thr: # Do not include if it is random black pixel of length less then leng in row\n",
        "        #     write = False\n",
        "        #     break\n",
        "        if(write):\n",
        "          c_points_l.append([i,j])\n",
        "          prev_j=j\n",
        "        write=True\n",
        "        break\n",
        "  c_points_r = [] # x,y x:all , y: first non-white pixel\n",
        "  prev_j=-1\n",
        "  write=True\n",
        "  for i in range(h):\n",
        "    for j in range(l-1,-1,-1):\n",
        "      if (img[i,j]<thr):\n",
        "        # if(len(c_points)!=0 and (j==prev_j)): # Do not include vertical black columns\n",
        "        #  write=False\n",
        "        #for i in range(leng):\n",
        "          # if img[i,j+i]<thr: # Do not include if it is random black pixel of length less then leng in row\n",
        "          #   write = False\n",
        "          #   break\n",
        "        if(write):\n",
        "          c_points_r.append([i,j])\n",
        "          prev_j=j\n",
        "        write=True\n",
        "        break\n",
        "  print('len(c_points_l) :', len(c_points_l))\n",
        "  # for i in range(len(c_points_l)-6,len(c_points_l)):\n",
        "  #   print(i, c_points_l[i])\n",
        "  c_points_l=np.array(c_points_l)\n",
        "\n",
        "\n",
        "  print('len(c_points_r) :', len(c_points_r))\n",
        "  # for i in range(len(c_points_r)-6,len(c_points_r)):\n",
        "  #   print(i, c_points_r[i])\n",
        "  c_points_r=np.array(c_points_r)\n",
        "  return c_points_l, c_points_r"
      ],
      "metadata": {
        "id": "Vu4KM07WDnt5"
      },
      "execution_count": 136,
      "outputs": []
    },
    {
      "cell_type": "markdown",
      "source": [
        "Differntiation of edge point on plateform to find angle of contact\n"
      ],
      "metadata": {
        "id": "tjI_mThQPQz6"
      }
    },
    {
      "cell_type": "code",
      "source": [
        "# plt.scatter(c_points_l[:,1],h-c_points_l[:,0])\n",
        "# ax = plt.gca()\n",
        "# ax.set_aspect('equal', adjustable='box')"
      ],
      "metadata": {
        "id": "tKZ92L9zrE9q"
      },
      "execution_count": 137,
      "outputs": []
    },
    {
      "cell_type": "code",
      "source": [
        "# plt.scatter(c_points_r[:,1],h-c_points_r[:,0])\n",
        "# ax = plt.gca()\n",
        "# ax.set_aspect('equal', adjustable='box')"
      ],
      "metadata": {
        "id": "Wr1Lh2_p2xI8"
      },
      "execution_count": 138,
      "outputs": []
    },
    {
      "cell_type": "code",
      "source": [
        "def estimate_coef(x, y):\n",
        "    # number of observations/points\n",
        "    n = np.size(x)\n",
        "  \n",
        "    # mean of x and y vector\n",
        "    m_x = np.mean(x)\n",
        "    m_y = np.mean(y)\n",
        "  \n",
        "    # calculating cross-deviation and deviation about x\n",
        "    SS_xy = np.sum(y*x) - n*m_y*m_x\n",
        "    SS_xx = np.sum(x*x) - n*m_x*m_x\n",
        "  \n",
        "    # calculating regression coefficients\n",
        "    b_1 = SS_xy / SS_xx\n",
        "    b_0 = m_y - b_1*m_x\n",
        "  \n",
        "    return (b_0, b_1)"
      ],
      "metadata": {
        "id": "7IsonBBugbL5"
      },
      "execution_count": 139,
      "outputs": []
    },
    {
      "cell_type": "code",
      "source": [
        "def plot_regression_line(x, y, b):\n",
        "    # plotting the actual points as scatter plot\n",
        "    plt.scatter(x, y, color = \"m\",\n",
        "               marker = \"o\", s = 30)\n",
        "  \n",
        "    # predicted response vector\n",
        "    y_pred = b[0] + b[1]*x\n",
        "  \n",
        "    # plotting the regression line\n",
        "    plt.plot(x, y_pred, color = \"g\")\n",
        "  \n",
        "    # putting labels\n",
        "    plt.xlabel('x')\n",
        "    plt.ylabel('y')\n",
        "    \n",
        "    ax = plt.gca()\n",
        "    ax.set_aspect('equal', adjustable='box')\n",
        "    # function to show plot\n",
        "    plt.show()"
      ],
      "metadata": {
        "id": "j-1rI2Inggnl"
      },
      "execution_count": 140,
      "outputs": []
    },
    {
      "cell_type": "code",
      "source": [
        "def find_angle_of_contact(c_points, p, is_right):\n",
        "  x = np.array(c_points[-p:,1])\n",
        "  y = np.array(h-c_points[-p:,0])\n",
        "  # print(x,y)\n",
        "  b = estimate_coef(x, y)\n",
        "  slope = b[1]\n",
        "  angle = degrees(atan(slope))\n",
        "  if (angle<0):\n",
        "    angle=angle+180\n",
        "  if(is_right):\n",
        "    angle = 180-angle\n",
        "  return angle"
      ],
      "metadata": {
        "id": "JBtVVpggISK_"
      },
      "execution_count": 141,
      "outputs": []
    },
    {
      "cell_type": "code",
      "source": [
        "def put_text(image, origin_for_text, text, is_right):\n",
        "  text=text*100\n",
        "  text = int(text)//100.\n",
        "  font = cv2.FONT_HERSHEY_SIMPLEX\n",
        "  fontScale = 0.4\n",
        "  # Blue color in BGR\n",
        "  blue = (255, 0, 0)\n",
        "  red = (0,0,255)\n",
        "  color = blue\n",
        "  if is_right:\n",
        "    color = red\n",
        "  thickness = 1\n",
        "  image = cv2.putText(image, str(text), origin_for_text, font, \n",
        "                    fontScale, color, thickness, cv2.LINE_AA)"
      ],
      "metadata": {
        "id": "YGPM32lcznEt"
      },
      "execution_count": 142,
      "outputs": []
    },
    {
      "cell_type": "code",
      "source": [
        "def draw_angle(img, spoint, cangle, is_right):\n",
        "  leng = 80 # user para , lenght of output line\n",
        "  if (is_right):\n",
        "    leng= min(leng, l-spoint[1])\n",
        "  blue = (255, 0, 0)\n",
        "  red = (0,0,255)\n",
        "  color = blue\n",
        "  if (is_right):\n",
        "    color = red\n",
        "  multi =1\n",
        "  if(is_right):\n",
        "    multi = -multi\n",
        "  epoint = spoint + (-int(sin(radians(cangle))*leng), int(multi*cos(radians(cangle))*leng))\n",
        "  origin_for_text = (min(epoint[1], spoint[1]), (spoint[0]+epoint[0])//2-30)\n",
        "  cv2.line(img, (spoint[1],spoint[0]), (epoint[1], epoint[0]), color)\n",
        "  put_text(img, origin_for_text, cangle, is_right)\n",
        "  cv2_imshow(img)"
      ],
      "metadata": {
        "id": "h_CbJBerq6dy"
      },
      "execution_count": 143,
      "outputs": []
    },
    {
      "cell_type": "code",
      "source": [
        "def start_ur_game_bro(path):\n",
        "  img, img_colored = read_img(path)\n",
        "  img = thresholding(img)\n",
        "  c_points_l, c_points_r = find_c_points(img)\n",
        "  angle_l = find_angle_of_contact(c_points_l,8,0)\n",
        "  print(\"Angle of contact (left):\", angle_l)\n",
        "  angle_r = find_angle_of_contact(c_points_r,8,1)\n",
        "  print(\"Angle of contact (right):\", angle_r)\n",
        "  draw_angle(img_colored, c_points_l[len(c_points_l)-1], angle_l, 0)\n",
        "  draw_angle(img_colored, c_points_r[len(c_points_r)-1], angle_r, 1)\n",
        "  return"
      ],
      "metadata": {
        "id": "uFKa0AYCaem2"
      },
      "execution_count": 144,
      "outputs": []
    },
    {
      "cell_type": "code",
      "source": [
        "import glob\n",
        "image_directory = \"/content/Untitled Folder/\"\n",
        "paths1 = glob.glob(image_directory+\"*.png\")\n",
        "paths2 = glob.glob(image_directory+\"*.jpg\")\n",
        "paths = paths1+paths2"
      ],
      "metadata": {
        "id": "McpZgpUfcllY"
      },
      "execution_count": 145,
      "outputs": []
    },
    {
      "cell_type": "code",
      "source": [
        "for path in paths:\n",
        "  print(path)\n",
        "  start_ur_game_bro(path)"
      ],
      "metadata": {
        "colab": {
          "base_uri": "https://localhost:8080/",
          "height": 1000
        },
        "id": "Vbh6jTtQfIgL",
        "outputId": "4401aeec-197c-45c3-ad66-02bb572991b9"
      },
      "execution_count": 146,
      "outputs": [
        {
          "output_type": "stream",
          "name": "stdout",
          "text": [
            "/content/Untitled Folder/Screenshot (107).png\n"
          ]
        },
        {
          "output_type": "display_data",
          "data": {
            "text/plain": [
              "<PIL.Image.Image image mode=L size=511x247 at 0x7FD69ACEF790>"
            ],
            "image/png": "[encoded data removed]"
          },
          "metadata": {}
        },
        {
          "output_type": "stream",
          "name": "stdout",
          "text": [
            "Img shape : 247 511\n"
          ]
        },
        {
          "output_type": "display_data",
          "data": {
            "text/plain": [
              "<PIL.Image.Image image mode=L size=511x247 at 0x7FD69ACEF750>"
            ],
            "image/png": "[encoded data removed]"
          },
          "metadata": {}
        },
        {
          "output_type": "stream",
          "name": "stdout",
          "text": [
            "len(c_points_l) : 0\n",
            "len(c_points_r) : 0\n"
          ]
        },
        {
          "output_type": "error",
          "ename": "IndexError",
          "evalue": "ignored",
          "traceback": [
            "\u001b[0;31m---------------------------------------------------------------------------\u001b[0m",
            "\u001b[0;31mIndexError\u001b[0m                                Traceback (most recent call last)",
            "\u001b[0;32m<ipython-input-146-889dcce0f4c7>\u001b[0m in \u001b[0;36m<module>\u001b[0;34m\u001b[0m\n\u001b[1;32m      1\u001b[0m \u001b[0;32mfor\u001b[0m \u001b[0mpath\u001b[0m \u001b[0;32min\u001b[0m \u001b[0mpaths\u001b[0m\u001b[0;34m:\u001b[0m\u001b[0;34m\u001b[0m\u001b[0;34m\u001b[0m\u001b[0m\n\u001b[1;32m      2\u001b[0m   \u001b[0mprint\u001b[0m\u001b[0;34m(\u001b[0m\u001b[0mpath\u001b[0m\u001b[0;34m)\u001b[0m\u001b[0;34m\u001b[0m\u001b[0;34m\u001b[0m\u001b[0m\n\u001b[0;32m----> 3\u001b[0;31m   \u001b[0mstart_ur_game_bro\u001b[0m\u001b[0;34m(\u001b[0m\u001b[0mpath\u001b[0m\u001b[0;34m)\u001b[0m\u001b[0;34m\u001b[0m\u001b[0;34m\u001b[0m\u001b[0m\n\u001b[0m",
            "\u001b[0;32m<ipython-input-144-1da88789dddc>\u001b[0m in \u001b[0;36mstart_ur_game_bro\u001b[0;34m(path)\u001b[0m\n\u001b[1;32m      3\u001b[0m   \u001b[0mimg\u001b[0m \u001b[0;34m=\u001b[0m \u001b[0mthresholding\u001b[0m\u001b[0;34m(\u001b[0m\u001b[0mimg\u001b[0m\u001b[0;34m)\u001b[0m\u001b[0;34m\u001b[0m\u001b[0;34m\u001b[0m\u001b[0m\n\u001b[1;32m      4\u001b[0m   \u001b[0mc_points_l\u001b[0m\u001b[0;34m,\u001b[0m \u001b[0mc_points_r\u001b[0m \u001b[0;34m=\u001b[0m \u001b[0mfind_c_points\u001b[0m\u001b[0;34m(\u001b[0m\u001b[0mimg\u001b[0m\u001b[0;34m)\u001b[0m\u001b[0;34m\u001b[0m\u001b[0;34m\u001b[0m\u001b[0m\n\u001b[0;32m----> 5\u001b[0;31m   \u001b[0mangle_l\u001b[0m \u001b[0;34m=\u001b[0m \u001b[0mfind_angle_of_contact\u001b[0m\u001b[0;34m(\u001b[0m\u001b[0mc_points_l\u001b[0m\u001b[0;34m,\u001b[0m\u001b[0;36m8\u001b[0m\u001b[0;34m,\u001b[0m\u001b[0;36m0\u001b[0m\u001b[0;34m)\u001b[0m\u001b[0;34m\u001b[0m\u001b[0;34m\u001b[0m\u001b[0m\n\u001b[0m\u001b[1;32m      6\u001b[0m   \u001b[0mprint\u001b[0m\u001b[0;34m(\u001b[0m\u001b[0;34m\"Angle of contact (left):\"\u001b[0m\u001b[0;34m,\u001b[0m \u001b[0mangle_l\u001b[0m\u001b[0;34m)\u001b[0m\u001b[0;34m\u001b[0m\u001b[0;34m\u001b[0m\u001b[0m\n\u001b[1;32m      7\u001b[0m   \u001b[0mangle_r\u001b[0m \u001b[0;34m=\u001b[0m \u001b[0mfind_angle_of_contact\u001b[0m\u001b[0;34m(\u001b[0m\u001b[0mc_points_r\u001b[0m\u001b[0;34m,\u001b[0m\u001b[0;36m8\u001b[0m\u001b[0;34m,\u001b[0m\u001b[0;36m1\u001b[0m\u001b[0;34m)\u001b[0m\u001b[0;34m\u001b[0m\u001b[0;34m\u001b[0m\u001b[0m\n",
            "\u001b[0;32m<ipython-input-141-6beb8ffe1844>\u001b[0m in \u001b[0;36mfind_angle_of_contact\u001b[0;34m(c_points, p, is_right)\u001b[0m\n\u001b[1;32m      1\u001b[0m \u001b[0;32mdef\u001b[0m \u001b[0mfind_angle_of_contact\u001b[0m\u001b[0;34m(\u001b[0m\u001b[0mc_points\u001b[0m\u001b[0;34m,\u001b[0m \u001b[0mp\u001b[0m\u001b[0;34m,\u001b[0m \u001b[0mis_right\u001b[0m\u001b[0;34m)\u001b[0m\u001b[0;34m:\u001b[0m\u001b[0;34m\u001b[0m\u001b[0;34m\u001b[0m\u001b[0m\n\u001b[0;32m----> 2\u001b[0;31m   \u001b[0mx\u001b[0m \u001b[0;34m=\u001b[0m \u001b[0mnp\u001b[0m\u001b[0;34m.\u001b[0m\u001b[0marray\u001b[0m\u001b[0;34m(\u001b[0m\u001b[0mc_points\u001b[0m\u001b[0;34m[\u001b[0m\u001b[0;34m-\u001b[0m\u001b[0mp\u001b[0m\u001b[0;34m:\u001b[0m\u001b[0;34m,\u001b[0m\u001b[0;36m1\u001b[0m\u001b[0;34m]\u001b[0m\u001b[0;34m)\u001b[0m\u001b[0;34m\u001b[0m\u001b[0;34m\u001b[0m\u001b[0m\n\u001b[0m\u001b[1;32m      3\u001b[0m   \u001b[0my\u001b[0m \u001b[0;34m=\u001b[0m \u001b[0mnp\u001b[0m\u001b[0;34m.\u001b[0m\u001b[0marray\u001b[0m\u001b[0;34m(\u001b[0m\u001b[0mh\u001b[0m\u001b[0;34m-\u001b[0m\u001b[0mc_points\u001b[0m\u001b[0;34m[\u001b[0m\u001b[0;34m-\u001b[0m\u001b[0mp\u001b[0m\u001b[0;34m:\u001b[0m\u001b[0;34m,\u001b[0m\u001b[0;36m0\u001b[0m\u001b[0;34m]\u001b[0m\u001b[0;34m)\u001b[0m\u001b[0;34m\u001b[0m\u001b[0;34m\u001b[0m\u001b[0m\n\u001b[1;32m      4\u001b[0m   \u001b[0;31m# print(x,y)\u001b[0m\u001b[0;34m\u001b[0m\u001b[0;34m\u001b[0m\u001b[0;34m\u001b[0m\u001b[0m\n\u001b[1;32m      5\u001b[0m   \u001b[0mb\u001b[0m \u001b[0;34m=\u001b[0m \u001b[0mestimate_coef\u001b[0m\u001b[0;34m(\u001b[0m\u001b[0mx\u001b[0m\u001b[0;34m,\u001b[0m \u001b[0my\u001b[0m\u001b[0;34m)\u001b[0m\u001b[0;34m\u001b[0m\u001b[0;34m\u001b[0m\u001b[0m\n",
            "\u001b[0;31mIndexError\u001b[0m: too many indices for array: array is 1-dimensional, but 2 were indexed"
          ]
        }
      ]
    },
    {
      "cell_type": "code",
      "source": [],
      "metadata": {
        "id": "3zKXuEkgfZCX"
      },
      "execution_count": null,
      "outputs": []
    }
  ]
}